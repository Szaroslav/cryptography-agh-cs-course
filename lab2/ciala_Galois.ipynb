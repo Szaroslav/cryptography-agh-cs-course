{
 "cells": [
  {
   "cell_type": "markdown",
   "id": "d91341b6",
   "metadata": {},
   "source": [
    "# Arytmetyka w ciałach Galois\n",
    "\n",
    "## Co to jest ciało Galois?\n",
    "\n",
    "**Ciałem Galois** nazywamy ciało $(G,+,\\cdot)$ o skończonej liczbie elementów. Najprostszym przykładem takiego ciała są $\\mathbb{Z}_p$, gdzie $p$ jest liczbą pierwszą. *Rzędem* ciała skończonego nazywamy liczbę jego elementów. Ciała skończone tego samego rzędu są izomorficzne.\n",
    "\n",
    "Kolejnym ważnym przykładem ciała Galois jest pierścień ilorazowy $\\mathbb{Z}_p[X]/W(X)$, gdzie $p$ jest liczbą pierwszą a $W$ jest nierozkładalnym wielomianem monicznym stopnia $n$.\n",
    "\n",
    "## Pierścień $\\mathbb{Z}_n$\n",
    "\n",
    "W ciele $\\mathbb{Z}$ wprowadzamy relację równoważności $\\mod n$ (gdzie $n$ jest ustaloną dodatnią liczbą naturalną):\n",
    "$$a\\equiv_n b\\Leftrightarrow [a]_n=[b]_n$$\n",
    "gdzie $[]_n$ oznacza resztę z dzielenia przez $n$.\n",
    "\n",
    "Arytmetyka $\\mod n$:$$a+b=[a+b]_n$$ $$ab=[ab]_n$$\n",
    "\n",
    "**Pierwiastkiem pierwotnym** $\\mod n$ nazywamy liczbę, której potęgi $\\mod n$ dają wszystkie reszty z dzielenia przez $n$, które są względnie pierwsze z $n$. Pierwiastek pierwotny istnieje tylko dla następujących $n$:\n",
    "- $n=p^k$, gdzie $p$ jest liczbą pierwszą różną od 2\n",
    "- $n=2p^k$, gdzie $p$ - j.w.\n",
    "- $n=2$ lub $n=4$"
   ]
  },
  {
   "cell_type": "markdown",
   "id": "f796ef8e",
   "metadata": {},
   "source": [
    "### Sage math:\n",
    "Konstruujemy pierścień `R=Integers(n)` lub `R=IntegerModRing(n)`, gdzie za `n` podajemy ustaloną liczbę naturalną. Jeżeli chcemy poznać postać liczby `x` w tym pierścieniu, to piszemy `R(x)`. Inną opcją jest funkcja `mod(x,n)`"
   ]
  },
  {
   "cell_type": "code",
   "execution_count": 1,
   "id": "b4db6339",
   "metadata": {},
   "outputs": [
    {
     "ename": "NameError",
     "evalue": "name 'Integers' is not defined",
     "output_type": "error",
     "traceback": [
      "\u001b[0;31m---------------------------------------------------------------------------\u001b[0m",
      "\u001b[0;31mNameError\u001b[0m                                 Traceback (most recent call last)",
      "\u001b[1;32m/Volumes/ComputerScience 1/uni/sem5/kryptografia/lab2/ciala_Galois.ipynb Cell 3\u001b[0m line \u001b[0;36m1\n\u001b[0;32m----> <a href='vscode-notebook-cell:/Volumes/ComputerScience%201/uni/sem5/kryptografia/lab2/ciala_Galois.ipynb#W2sZmlsZQ%3D%3D?line=0'>1</a>\u001b[0m R\u001b[39m=\u001b[39mIntegers(\u001b[39m3\u001b[39m)\n\u001b[1;32m      <a href='vscode-notebook-cell:/Volumes/ComputerScience%201/uni/sem5/kryptografia/lab2/ciala_Galois.ipynb#W2sZmlsZQ%3D%3D?line=1'>2</a>\u001b[0m x\u001b[39m=\u001b[39mR(\u001b[39m4\u001b[39m)\n\u001b[1;32m      <a href='vscode-notebook-cell:/Volumes/ComputerScience%201/uni/sem5/kryptografia/lab2/ciala_Galois.ipynb#W2sZmlsZQ%3D%3D?line=2'>3</a>\u001b[0m \u001b[39mprint\u001b[39m(x)\n",
      "\u001b[0;31mNameError\u001b[0m: name 'Integers' is not defined"
     ]
    }
   ],
   "source": [
    "R=Integers(3)\n",
    "x=R(4)\n",
    "print(x)\n",
    "print(type(x))"
   ]
  },
  {
   "cell_type": "code",
   "execution_count": null,
   "id": "86859c0a",
   "metadata": {},
   "outputs": [],
   "source": [
    "R(2+7)"
   ]
  },
  {
   "cell_type": "code",
   "execution_count": null,
   "id": "84417cfd",
   "metadata": {},
   "outputs": [],
   "source": [
    "R(2*4)"
   ]
  },
  {
   "cell_type": "code",
   "execution_count": null,
   "id": "259e5571",
   "metadata": {},
   "outputs": [],
   "source": [
    "RR=IntegerModRing(5)\n",
    "x=RR(10)\n",
    "print(x)\n",
    "print(type(x))"
   ]
  },
  {
   "cell_type": "code",
   "execution_count": null,
   "id": "7cadde47",
   "metadata": {},
   "outputs": [],
   "source": [
    "x=mod(10,4)\n",
    "print(x)\n",
    "print(type(x))"
   ]
  },
  {
   "cell_type": "markdown",
   "id": "5b8ac8e6",
   "metadata": {},
   "source": [
    "Pierwiastki pierwotne w Sage znajdujemy funkcją `primitive_root(n)`."
   ]
  },
  {
   "cell_type": "code",
   "execution_count": null,
   "id": "5c1b2de3",
   "metadata": {},
   "outputs": [],
   "source": [
    "x=primitive_root(7)\n",
    "print(x)\n",
    "print(type(x))"
   ]
  },
  {
   "cell_type": "code",
   "execution_count": null,
   "id": "ed1f74d5",
   "metadata": {},
   "outputs": [],
   "source": [
    "primitive_root(5)"
   ]
  },
  {
   "cell_type": "markdown",
   "id": "76290854",
   "metadata": {},
   "source": [
    "### python:"
   ]
  },
  {
   "cell_type": "markdown",
   "id": "d1feb566",
   "metadata": {},
   "source": [
    "W pythonie nie poszalejemy - operator `%` zwraca resztę z dzielenia. I to tyle. Funkcje do arytmetyki mod $n$ można znaleźć w module SymPy."
   ]
  },
  {
   "cell_type": "code",
   "execution_count": 2,
   "id": "627d5866",
   "metadata": {},
   "outputs": [
    {
     "name": "stdout",
     "output_type": "stream",
     "text": [
      "1\n",
      "<class 'int'>\n"
     ]
    }
   ],
   "source": [
    "x=5%2\n",
    "print(x)\n",
    "print(type(x))"
   ]
  },
  {
   "cell_type": "markdown",
   "id": "67bf52cb",
   "metadata": {},
   "source": [
    "## Zadanie 1.\n",
    "Zaimplementować w pythonie funkcję `prim_root(n)` znajdującą pierwiastki pierwotne mod $n$. Jeżeli taki pierwiastek nie istnieje funkcja ma zwrócić 0. Jeżeli takich pierwiastków jest więcej funkcja ma zwrócić najmniejszy z nich."
   ]
  },
  {
   "cell_type": "code",
   "execution_count": null,
   "id": "42d030cb",
   "metadata": {},
   "outputs": [],
   "source": []
  },
  {
   "cell_type": "code",
   "execution_count": null,
   "id": "30843298",
   "metadata": {},
   "outputs": [],
   "source": [
    "#TESTY\n",
    "try:\n",
    "    assert prim_root(7)==3\n",
    "    assert prim_root(15)==0\n",
    "    assert prim_root(26)==7\n",
    "except:\n",
    "    print('Próbuj dalej')\n",
    "    raise"
   ]
  },
  {
   "cell_type": "markdown",
   "id": "4ef37075",
   "metadata": {},
   "source": [
    "## Zadanie 2.\n",
    "\n",
    "Zaimplementować w Pythonie klasę `Z7()`, której obiekty to pierścienie reszt z dzielenia przez 7. Przeładować operatory `+`, `-`, `*`, aby na obiektach klasy wykonywały działania mod 7 oraz metodę `__repr__`."
   ]
  },
  {
   "cell_type": "code",
   "execution_count": 26,
   "id": "a7e92b65",
   "metadata": {},
   "outputs": [],
   "source": [
    "class Z7:\n",
    "  def __init__(self, n: int) -> None:\n",
    "    self.n = n % 7\n",
    "\n",
    "  def __repr__(self) -> str:\n",
    "    return str(self.n)\n",
    "\n",
    "  def __add__(self, other) -> int:\n",
    "    return (self.n + other.n) % 7\n",
    "  \n",
    "  def __sub__(self, other) -> int:\n",
    "    return abs((self.n - other.n)) % 7\n",
    "  \n",
    "  def __mul__(self, other) -> int:\n",
    "    return (self.n * other.n) % 7\n",
    "\n",
    "\n",
    "class Zn:\n",
    "  def __init__(self, value: int, n: int) -> None:\n",
    "    self.n     = n\n",
    "    self.value = value % n\n",
    "\n",
    "  def __repr__(self) -> str:\n",
    "    return f\"Value: {self.n}, n: {self.n}\"\n",
    "  \n",
    "  def number_operand_to_object(self, operand):\n",
    "    if type(operand) is int:\n",
    "      return Zn(operand, self.n)\n",
    "    elif isinstance(operand, Zn) and operand.n != self.n:\n",
    "      raise ValueError(\"Invalid n of operand\")\n",
    "    elif not isinstance(operand, Zn):\n",
    "      raise ValueError(\"Invalid operand type\")\n",
    "    return operand\n",
    "\n",
    "  def __add__(self, other) -> int:\n",
    "    other = self.number_operand_to_object(other)\n",
    "    return (self.value + other.value) % self.n\n",
    "  \n",
    "  def __radd__(self, other):\n",
    "    return self + other\n",
    "  \n",
    "  def __sub__(self, other) -> int:\n",
    "    other = self.number_operand_to_object(other)\n",
    "    return abs((self.value - other.value)) % self.n\n",
    "\n",
    "  def __rsub__(self, other):\n",
    "    return self - other\n",
    "\n",
    "  def __mul__(self, other) -> int:\n",
    "    other = self.number_operand_to_object(other)\n",
    "    return (self.value * other.value) % self.n\n",
    "\n",
    "  def __rmul__(self, other):\n",
    "    return self * other"
   ]
  },
  {
   "cell_type": "code",
   "execution_count": 24,
   "id": "f9dece7e",
   "metadata": {},
   "outputs": [
    {
     "name": "stdout",
     "output_type": "stream",
     "text": [
      "Z7\n",
      "2 3 0\n",
      "2 6\n",
      "\n",
      "Zn, n = 7\n",
      "Value: 7, n: 7 Value: 7, n: 7 Value: 7, n: 7\n",
      "2 6 2 6 3 3\n"
     ]
    }
   ],
   "source": [
    "#TESTY\n",
    "\n",
    "print(\"Z7\")\n",
    "\n",
    "x=Z7(2)\n",
    "y=Z7(10)\n",
    "z=Z7(14)\n",
    "\n",
    "print(x,y,z)\n",
    "#2 3 0\n",
    "print(x + z, x * y)\n",
    "#2 6\n",
    "\n",
    "print()\n",
    "\n",
    "print(\"Zn, n = 7\")\n",
    "\n",
    "x=Zn(2, 7)\n",
    "y=Zn(10, 7)\n",
    "z=Zn(14, 7)\n",
    "\n",
    "print(x, y, z)\n",
    "#2 3 0\n",
    "print(x + z, x * y, z + x, y * x, x + 8, 8 + x)\n",
    "#2 6 2 6 3 3"
   ]
  },
  {
   "cell_type": "markdown",
   "id": "812b4993",
   "metadata": {},
   "source": [
    "### Wymiana klucza typu Diffie-Hellman z wykorzystaniem pierwiastka pierwotnego\n",
    "\n",
    "Alice i Bob uzgadniają klucz publiczny będący liczbą pierwszą $p$ oraz $q$ - pierwiastkiem pierwotnym mod $p$.\n",
    "- sekret Alice: liczba całkowita $n\\in (0,p)$\n",
    "- sekret Boba: liczba całkowita $m\\in (0,p)$\n",
    "- Alice generuje $x=q^n$ i wysyła do Boba\n",
    "- Bob generuje $y=q^m$ i wysyła Alice\n",
    "- Alice oblicza klucz $k=y^n$\n",
    "- Bob oblicza klucz $k=x^m$\n",
    "\n",
    "Użycie pierwiastka pierwotnego gwarantuje, że wielkość klucza $k$ nie przekroczy $p-1$."
   ]
  },
  {
   "cell_type": "markdown",
   "id": "076f56f9",
   "metadata": {},
   "source": [
    "## Zadanie 3.\n",
    "\n",
    "Zaimplementuj w Sage lub pythonie powyższy prosty algorytm wymiany klucza. Przyda się funkcja `random_prime()` (Sage) oraz `randint()`."
   ]
  },
  {
   "cell_type": "code",
   "execution_count": 42,
   "id": "4c78c5f9",
   "metadata": {},
   "outputs": [],
   "source": [
    "from math import gcd\n",
    "\n",
    "def primitive_root(modulo):\n",
    "  coprime_set = { num for num in range(1, modulo) if gcd(num, modulo) == 1 }\n",
    "  for g in range(1, modulo):\n",
    "    if coprime_set == { pow(g, powers, modulo) for powers in range(1, modulo) }:\n",
    "      return g\n",
    "  return None"
   ]
  },
  {
   "cell_type": "code",
   "execution_count": 45,
   "id": "7ec7af0b",
   "metadata": {},
   "outputs": [
    {
     "name": "stdout",
     "output_type": "stream",
     "text": [
      "1\n",
      "2\n",
      "3\n",
      "4\n"
     ]
    },
    {
     "ename": "KeyboardInterrupt",
     "evalue": "",
     "output_type": "error",
     "traceback": [
      "\u001b[0;31m---------------------------------------------------------------------------\u001b[0m",
      "\u001b[0;31mKeyboardInterrupt\u001b[0m                         Traceback (most recent call last)",
      "\u001b[1;32m/Volumes/ComputerScience 1/uni/sem5/kryptografia/lab2/ciala_Galois.ipynb Cell 23\u001b[0m line \u001b[0;36m6\n\u001b[1;32m      <a href='vscode-notebook-cell:/Volumes/ComputerScience%201/uni/sem5/kryptografia/lab2/ciala_Galois.ipynb#X30sZmlsZQ%3D%3D?line=3'>4</a>\u001b[0m n \u001b[39m=\u001b[39m randint(\u001b[39m1\u001b[39m, p)\n\u001b[1;32m      <a href='vscode-notebook-cell:/Volumes/ComputerScience%201/uni/sem5/kryptografia/lab2/ciala_Galois.ipynb#X30sZmlsZQ%3D%3D?line=4'>5</a>\u001b[0m m \u001b[39m=\u001b[39m randint(\u001b[39m1\u001b[39m, p)\n\u001b[0;32m----> <a href='vscode-notebook-cell:/Volumes/ComputerScience%201/uni/sem5/kryptografia/lab2/ciala_Galois.ipynb#X30sZmlsZQ%3D%3D?line=5'>6</a>\u001b[0m q \u001b[39m=\u001b[39m primRoot(\u001b[39m100000000\u001b[39m)\n\u001b[1;32m      <a href='vscode-notebook-cell:/Volumes/ComputerScience%201/uni/sem5/kryptografia/lab2/ciala_Galois.ipynb#X30sZmlsZQ%3D%3D?line=6'>7</a>\u001b[0m \u001b[39mprint\u001b[39m(q)\n",
      "\u001b[1;32m/Volumes/ComputerScience 1/uni/sem5/kryptografia/lab2/ciala_Galois.ipynb Cell 23\u001b[0m line \u001b[0;36m7\n\u001b[1;32m      <a href='vscode-notebook-cell:/Volumes/ComputerScience%201/uni/sem5/kryptografia/lab2/ciala_Galois.ipynb#X30sZmlsZQ%3D%3D?line=4'>5</a>\u001b[0m \u001b[39mfor\u001b[39;00m g \u001b[39min\u001b[39;00m \u001b[39mrange\u001b[39m(\u001b[39m1\u001b[39m, modulo):\n\u001b[1;32m      <a href='vscode-notebook-cell:/Volumes/ComputerScience%201/uni/sem5/kryptografia/lab2/ciala_Galois.ipynb#X30sZmlsZQ%3D%3D?line=5'>6</a>\u001b[0m   \u001b[39mprint\u001b[39m(g)\n\u001b[0;32m----> <a href='vscode-notebook-cell:/Volumes/ComputerScience%201/uni/sem5/kryptografia/lab2/ciala_Galois.ipynb#X30sZmlsZQ%3D%3D?line=6'>7</a>\u001b[0m   \u001b[39mif\u001b[39;00m coprime_set \u001b[39m==\u001b[39m { \u001b[39mpow\u001b[39m(g, powers, modulo) \u001b[39mfor\u001b[39;00m powers \u001b[39min\u001b[39;00m \u001b[39mrange\u001b[39m(\u001b[39m1\u001b[39m, modulo) }:\n\u001b[1;32m      <a href='vscode-notebook-cell:/Volumes/ComputerScience%201/uni/sem5/kryptografia/lab2/ciala_Galois.ipynb#X30sZmlsZQ%3D%3D?line=7'>8</a>\u001b[0m     \u001b[39mreturn\u001b[39;00m g\n\u001b[1;32m      <a href='vscode-notebook-cell:/Volumes/ComputerScience%201/uni/sem5/kryptografia/lab2/ciala_Galois.ipynb#X30sZmlsZQ%3D%3D?line=8'>9</a>\u001b[0m \u001b[39mreturn\u001b[39;00m \u001b[39mNone\u001b[39;00m\n",
      "\u001b[1;32m/Volumes/ComputerScience 1/uni/sem5/kryptografia/lab2/ciala_Galois.ipynb Cell 23\u001b[0m line \u001b[0;36m7\n\u001b[1;32m      <a href='vscode-notebook-cell:/Volumes/ComputerScience%201/uni/sem5/kryptografia/lab2/ciala_Galois.ipynb#X30sZmlsZQ%3D%3D?line=4'>5</a>\u001b[0m \u001b[39mfor\u001b[39;00m g \u001b[39min\u001b[39;00m \u001b[39mrange\u001b[39m(\u001b[39m1\u001b[39m, modulo):\n\u001b[1;32m      <a href='vscode-notebook-cell:/Volumes/ComputerScience%201/uni/sem5/kryptografia/lab2/ciala_Galois.ipynb#X30sZmlsZQ%3D%3D?line=5'>6</a>\u001b[0m   \u001b[39mprint\u001b[39m(g)\n\u001b[0;32m----> <a href='vscode-notebook-cell:/Volumes/ComputerScience%201/uni/sem5/kryptografia/lab2/ciala_Galois.ipynb#X30sZmlsZQ%3D%3D?line=6'>7</a>\u001b[0m   \u001b[39mif\u001b[39;00m coprime_set \u001b[39m==\u001b[39m { \u001b[39mpow\u001b[39m(g, powers, modulo) \u001b[39mfor\u001b[39;00m powers \u001b[39min\u001b[39;00m \u001b[39mrange\u001b[39m(\u001b[39m1\u001b[39m, modulo) }:\n\u001b[1;32m      <a href='vscode-notebook-cell:/Volumes/ComputerScience%201/uni/sem5/kryptografia/lab2/ciala_Galois.ipynb#X30sZmlsZQ%3D%3D?line=7'>8</a>\u001b[0m     \u001b[39mreturn\u001b[39;00m g\n\u001b[1;32m      <a href='vscode-notebook-cell:/Volumes/ComputerScience%201/uni/sem5/kryptografia/lab2/ciala_Galois.ipynb#X30sZmlsZQ%3D%3D?line=8'>9</a>\u001b[0m \u001b[39mreturn\u001b[39;00m \u001b[39mNone\u001b[39;00m\n",
      "\u001b[0;31mKeyboardInterrupt\u001b[0m: "
     ]
    }
   ],
   "source": [
    "from random import randint\n",
    "\n",
    "p = 1_846_389_521_368 + pow(11, 600)\n",
    "n = randint(1, p)\n",
    "m = randint(1, p)\n",
    "q = primitive_root(100000000)\n",
    "print(q)\n"
   ]
  },
  {
   "cell_type": "markdown",
   "id": "0750ef60",
   "metadata": {},
   "source": [
    "## Pierścienie ilorazowe wielomianów\n",
    "\n",
    "Aby utworzyć pierścień ilorazowy $\\mathbb{Z}_n[X]/W(X)$ w Sage musimy najpierw utworzyć $\\mathbb{Z}_n[X]$, czyli pierścień wielomianów o współczynnikach z $\\mathbb{Z}_n$:\n",
    "\n",
    "`R=PolynomialRing(Integers(n),'X')`\n",
    "\n",
    "Jeżeli w dalszej części kodu mamy zamiar korzystać z wielomianów z tego pierścienia, to dobrze jest rozdzielić nazewnictwo zmiennych niezależnych\n",
    "\n",
    "`X=R.gen()`\n",
    "\n",
    "Teraz każdy wielomian zmiennej `X` będzie przez Sage traktowany jako element pierścienia `R`."
   ]
  },
  {
   "cell_type": "code",
   "execution_count": null,
   "id": "2a8a7cb1",
   "metadata": {},
   "outputs": [],
   "source": [
    "R=PolynomialRing(Integers(5),'X')\n",
    "X=R.gen()\n",
    "\n",
    "X^6-13*X^4+12*X^2-10*X+6"
   ]
  },
  {
   "cell_type": "markdown",
   "id": "f606fdb6",
   "metadata": {},
   "source": [
    "Pierścień ilorazowy tworzymy metodą `R.quotient(W,'x')`, gdzie `W` jest dowolnym wielomianem. Podobnie jak poprzednio dobrze jest od razu zdefiniować `x` jako zmienną niezależną wielomianów z nowego pierścienia."
   ]
  },
  {
   "cell_type": "code",
   "execution_count": null,
   "id": "c276fa4e",
   "metadata": {},
   "outputs": [],
   "source": [
    "Rq=R.quotient(X^4+1,'x')\n",
    "x=Rq.gen()\n",
    "\n",
    "x^6-13*x^4+12*x^2-10*x+6"
   ]
  },
  {
   "cell_type": "code",
   "execution_count": null,
   "id": "04a7edfb",
   "metadata": {},
   "outputs": [],
   "source": [
    "w1=7*x^6+14\n",
    "w2=24*x^4-5*x^2-7*x+13\n",
    "\n",
    "expand(w1*w2)"
   ]
  },
  {
   "cell_type": "markdown",
   "id": "af84fcfa",
   "metadata": {},
   "source": [
    "## Zadanie 4.\n",
    "\n",
    "Zaimplementować w pythonie arytmetykę pierścienia ilorazowego wielomianów utożsamiając wielomian z wektorem współczynników przy poszczególnych potęgach."
   ]
  },
  {
   "cell_type": "code",
   "execution_count": null,
   "id": "61363922",
   "metadata": {},
   "outputs": [],
   "source": []
  }
 ],
 "metadata": {
  "kernelspec": {
   "display_name": "base",
   "language": "python",
   "name": "python3"
  },
  "language_info": {
   "codemirror_mode": {
    "name": "ipython",
    "version": 3
   },
   "file_extension": ".py",
   "mimetype": "text/x-python",
   "name": "python",
   "nbconvert_exporter": "python",
   "pygments_lexer": "ipython3",
   "version": "3.11.5"
  }
 },
 "nbformat": 4,
 "nbformat_minor": 5
}
