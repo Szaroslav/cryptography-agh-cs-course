{
 "cells": [
  {
   "cell_type": "markdown",
   "id": "4680a3d8",
   "metadata": {},
   "source": [
    "# Kryptografia - Baby Kyber"
   ]
  },
  {
   "cell_type": "markdown",
   "id": "bc7ea698",
   "metadata": {},
   "source": [
    "## Pierścień $\\mathbb{Z}_n$"
   ]
  },
  {
   "cell_type": "code",
   "execution_count": 1,
   "id": "5ddf7c0c",
   "metadata": {},
   "outputs": [],
   "source": [
    "class Zn():\n",
    "    def __init__(self,num,N):\n",
    "        self.N=N\n",
    "        self.num=num%self.N\n",
    "\n",
    "    def __str__(self):\n",
    "        return str(self.num)\n",
    "\n",
    "    def __add__(self,other):\n",
    "        if isinstance(other,Zn):\n",
    "            if self.N==other.N:\n",
    "                return Zn(self.num+other.num,self.N)\n",
    "            else:\n",
    "                raise ValueError('Not compatible mod rings')\n",
    "        elif isinstance(other,int):\n",
    "            return Zn(self.num+other,self.N)\n",
    "        else:\n",
    "            raise TypeError(f\"unsupported operand type(s) for +: 'Zn' and '{type(other).__name__}'\")\n",
    "\n",
    "\n",
    "    def __radd__(self,other):\n",
    "        if isinstance(other,int):\n",
    "            return Zn(self.num+other,self.N)\n",
    "        else:\n",
    "            raise TypeError(f\"unsupported operand type(s) for +: '{type(other).__name__}' and 'Zn'\")\n",
    "\n",
    "\n",
    "    def __mul__(self,other):\n",
    "        if isinstance(other,Zn):\n",
    "            if self.N==other.N:\n",
    "                return Zn(self.num*other.num,self.N)\n",
    "            else:\n",
    "                raise ValueError('Not compatible mod rings')\n",
    "        elif isinstance(other,int):\n",
    "            return Zn(self.num*other,self.N)\n",
    "        else:\n",
    "            raise TypeError(f\"unsupported operand type(s) for *: 'Zn' and '{type(other).__name__}'\")\n",
    "\n",
    "    def __rmul__(self,other):\n",
    "        if isinstance(other,int):\n",
    "            return Zn(self.num*other,self.N)\n",
    "        else:\n",
    "            raise TypeError(f\"unsupported operand type(s) for *: '{type(other).__name__}' and 'Zn'\")\n",
    "\n",
    "    def __sub__(self,other):\n",
    "        if isinstance(other,Zn):\n",
    "            if self.N==other.N:\n",
    "                return Zn(self.num-other.num,self.N)\n",
    "            else:\n",
    "                raise ValueError('Not compatible mod rings')\n",
    "        elif isinstance(other,int):\n",
    "            return Zn(self.num-other,self.N)\n",
    "        else:\n",
    "            raise TypeError(f\"unsupported operand type(s) for -: 'Zn' and '{type(other).__name__}'\")\n",
    "\n",
    "\n",
    "    def __rsub__(self,other):\n",
    "        if isinstance(other,int):\n",
    "            return Zn(other-self.num,self.N)\n",
    "        else:\n",
    "            raise TypeError(f\"unsupported operand type(s) for -: '{type(other).__name__}' and 'Zn'\")\n",
    "\n",
    "    def __pow__(self,other):\n",
    "        if isinstance(other,Zn):\n",
    "            if self.N==other.N:\n",
    "                return Zn(pow(self.num,other.num,self.N),self.N)\n",
    "            else:\n",
    "                raise ValueError('Not compatible mod rings')\n",
    "        elif isinstance(other,int):\n",
    "            return Zn(pow(self.num,other,self.N),self.N)\n",
    "        else:\n",
    "            raise TypeError(f\"unsupported operand type(s) for **: 'Zn' and '{type(other).__name__}'\")\n",
    "\n",
    "\n",
    "    def __rpow__(self,other):\n",
    "        if isinstance(other,int):\n",
    "            return Zn(pow(other,self.num,self.N),self.N)\n",
    "        else:\n",
    "            raise TypeError(f\"unsupported operand type(s) for **: '{type(other).__name__}' and 'Zn'\")\n",
    "\n",
    "    def __repr__(self):\n",
    "        return str(self.num)"
   ]
  },
  {
   "cell_type": "markdown",
   "id": "c444d5d3",
   "metadata": {},
   "source": [
    "## Pierścień $\\mathbb{Z}_{17}[X]/(X^4+1)$"
   ]
  },
  {
   "cell_type": "code",
   "execution_count": 13,
   "id": "1279a018",
   "metadata": {},
   "outputs": [],
   "source": [
    "import numpy as np\n",
    "\n",
    "\n",
    "class Rq():\n",
    "    q=17\n",
    "    f=np.array([1,0,0,0,1])\n",
    "    def __init__(self,vec):\n",
    "        _,r=np.polydiv(np.array(vec),self.f)\n",
    "        self.vec=r%17\n",
    "\n",
    "    def __repr__(self):\n",
    "        return str(self.vec)\n",
    "\n",
    "    def __add__(self,other):\n",
    "        if isinstance(other,Rq):\n",
    "            return Rq(np.polyadd(self.vec,other.vec))\n",
    "        else:\n",
    "            raise TypeError(f\"unsupported operand type(s) for +: 'Rq' and '{type(other).__name__}'\")\n",
    "\n",
    "    def __sub__(self,other):\n",
    "        if isinstance(other,Rq):\n",
    "            return Rq(np.polyadd(self.vec,-1*other.vec))\n",
    "        else:\n",
    "            raise TypeError(f\"unsupported operand type(s) for +: 'Rq' and '{type(other).__name__}'\")\n",
    "\n",
    "\n",
    "    def __mul__(self,other):\n",
    "        if isinstance(other,Rq):\n",
    "            return Rq(np.polymul(self.vec,other.vec))\n",
    "        elif isinstance(other,int):\n",
    "            return Rq(other*self.vec)\n",
    "        else:\n",
    "            raise TypeError(f\"unsupported operand type(s) for *: 'Rq' and '{type(other).__name__}'\")\n",
    "\n",
    "    __rmul__=__mul__"
   ]
  },
  {
   "cell_type": "markdown",
   "id": "ffc5b429",
   "metadata": {},
   "source": [
    "## Baby Kyber"
   ]
  },
  {
   "cell_type": "markdown",
   "id": "9d5febcb",
   "metadata": {},
   "source": [
    "### Generowanie klucza\n",
    "\n",
    "$A=\\left[\\begin{matrix}\n",
    "    6x^3+16x^2+16x+11&9x^3+4x^2+6x+3\\\\\n",
    "    5x^3+3x^2+10x+1&6x^3+x^2+9x+15\n",
    "\\end{matrix}\\right]$\n",
    "\n",
    "$\\mathbf{s}=(-x^3-x^2+x,-x^3-x)$\n",
    "\n",
    "$\\mathbf{e}=(x^2,x^2-x)$\n",
    "\n",
    "$\\mathbf{t}=A\\mathbf{s}+\\mathbf{e}:\\ \\ \\mathbf{t}=(16x^3+15x^2+7,10x^3+12x^2+11x+6)$"
   ]
  },
  {
   "cell_type": "code",
   "execution_count": 31,
   "id": "069eefca",
   "metadata": {},
   "outputs": [
    {
     "data": {
      "text/plain": [
       "array([[16. 15.  0.  7.], [10. 12. 11.  6.]], dtype=object)"
      ]
     },
     "execution_count": 31,
     "metadata": {},
     "output_type": "execute_result"
    }
   ],
   "source": [
    "A = np.array([\n",
    "  [Rq([6, 16, 16, 11]), Rq([9, 4, 6, 3 ])],\n",
    "  [Rq([5, 3,  10, 1 ]), Rq([6, 1, 9, 15])],\n",
    "])\n",
    "s = np.array(\n",
    "  [Rq([-1, -1, 1, 0]), Rq([-1, 0, -1, 0])]\n",
    ")\n",
    "e = np.array(\n",
    "  [Rq([1, 0, 0]), Rq([1, -1, 0])]\n",
    ")\n",
    "\n",
    "t = A @ s + e\n",
    "t"
   ]
  },
  {
   "cell_type": "markdown",
   "id": "60e43683",
   "metadata": {},
   "source": [
    "### Szyfrowanie\n",
    "\n",
    "$m=1\\cdot x^3+0\\cdot x^2+1\\cdot x+1=x^3+x+1$\n",
    "\n",
    "$\\mathbf{r}=(-x^3+x^2,x^3+x^2-1)$\n",
    "\n",
    "$\\mathbf{e_1}=(x^2+x,x^2)$\n",
    "\n",
    "$e_2=-x^3-x^2$\n",
    "\n",
    "$\\mathbf{u}=A^T\\mathbf{r}+\\mathbf{e_1}:\\ \\ \\mathbf{u}=(11x^3+11x^2+10x+3,4x^3+4x^2+13x+11)$\n",
    "\n",
    "$v=\\mathbf{t}^T\\mathbf{r}+e_2+\\lfloor\\frac{q}{2}\\rceil m:\\ \\ v=8x^3+6x^2+9x+16$\n",
    "\n",
    "$\\mathbf{c}=(\\mathbf{u},v):\\ \\ \\mathbf{c}=((11x^3+11x^2+10x+3,4x^3+4x^2+13x+11),8x^3+6x^2+9x+16)$"
   ]
  },
  {
   "cell_type": "code",
   "execution_count": 19,
   "id": "902d15cc",
   "metadata": {},
   "outputs": [
    {
     "data": {
      "text/plain": [
       "(array([[11. 11. 10.  3.], [ 4.  4. 13. 11.]], dtype=object),\n",
       " [ 8.  6.  9. 16.])"
      ]
     },
     "execution_count": 19,
     "metadata": {},
     "output_type": "execute_result"
    }
   ],
   "source": [
    "from math import ceil\n",
    "\n",
    "\n",
    "m = Rq([1, 0, 1, 1])\n",
    "r = np.array(\n",
    "  [Rq([-1, 1, 0, 0]), Rq([1, 1, 0, -1])]\n",
    ")\n",
    "e1 = np.array(\n",
    "  [Rq([1, 1, 0]), Rq([1, 0, 0])]\n",
    ")\n",
    "e2 = Rq([-1, -1, 0, 0])\n",
    "\n",
    "u = A.T @ r + e1\n",
    "v = t.T @ r + e2 + ceil(Rq.q / 2) * m\n",
    "\n",
    "c = (u, v)\n",
    "c"
   ]
  },
  {
   "cell_type": "markdown",
   "id": "c0b5fd48",
   "metadata": {},
   "source": [
    "### Deszyfrowanie\n",
    "$m_n=v-\\mathbf{s}^T\\mathbf{u}:\\ \\ m_n=8x^3+14x^2+8x+6$\n"
   ]
  },
  {
   "cell_type": "code",
   "execution_count": 20,
   "id": "9d5ea81f",
   "metadata": {},
   "outputs": [
    {
     "data": {
      "text/plain": [
       "[ 8. 14.  8.  6.]"
      ]
     },
     "execution_count": 20,
     "metadata": {},
     "output_type": "execute_result"
    }
   ],
   "source": [
    "mn = v - s.T @ u\n",
    "mn"
   ]
  },
  {
   "cell_type": "code",
   "execution_count": 27,
   "id": "8d85a6be",
   "metadata": {},
   "outputs": [],
   "source": [
    "def generate_polynomial(degree: int, coefficients: np.ndarray | int = np.array([-1, 0, 1])) -> Rq:\n",
    "  return Rq(np.random.choice(coefficients, degree))"
   ]
  },
  {
   "cell_type": "code",
   "execution_count": 29,
   "id": "301f5eb2",
   "metadata": {},
   "outputs": [
    {
     "name": "stdout",
     "output_type": "stream",
     "text": [
      "[ 0  0  0 -1]\n"
     ]
    },
    {
     "data": {
      "text/plain": [
       "[16. 16.  1. 16.]"
      ]
     },
     "execution_count": 29,
     "metadata": {},
     "output_type": "execute_result"
    }
   ],
   "source": [
    "def benchmark_baby_kaber(k: int, samples: int) -> None:\n",
    "  for i in range(samples):\n",
    "    A = np.array([\n",
    "      [generate_polynomial(k, coefficients=Rq.q) for _ in range(k)]\n",
    "        for _ in range(k)\n",
    "    ])\n",
    "    s = np.array([generate_polynomial()])"
   ]
  },
  {
   "cell_type": "code",
   "execution_count": null,
   "id": "e8b4d3a1",
   "metadata": {},
   "outputs": [],
   "source": []
  }
 ],
 "metadata": {
  "kernelspec": {
   "display_name": "Python 3 (ipykernel)",
   "language": "python",
   "name": "python3"
  },
  "language_info": {
   "codemirror_mode": {
    "name": "ipython",
    "version": 3
   },
   "file_extension": ".py",
   "mimetype": "text/x-python",
   "name": "python",
   "nbconvert_exporter": "python",
   "pygments_lexer": "ipython3",
   "version": "3.11.6"
  }
 },
 "nbformat": 4,
 "nbformat_minor": 5
}
